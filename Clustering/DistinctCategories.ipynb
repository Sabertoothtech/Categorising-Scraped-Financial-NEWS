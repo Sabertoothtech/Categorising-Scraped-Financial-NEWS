{
 "cells": [
  {
   "cell_type": "markdown",
   "metadata": {},
   "source": [
    "# Finding out the distinct categories for a particular source of news\n",
    "Here we are trying to find out the naming patterns of every web source we have scraped.\n",
    "\n",
    "In __if(i[1]=='livemint'):__ the 'livemint' will be replaced by the websource name."
   ]
  },
  {
   "cell_type": "code",
   "execution_count": 1,
   "metadata": {},
   "outputs": [
    {
     "name": "stdout",
     "output_type": "stream",
     "text": [
      "Consumer\n",
      "Education\n",
      "Money\n",
      "Opinion\n",
      "Industry\n",
      "Companies\n",
      "Leisure\n",
      "Politics\n",
      "Sports\n",
      "Science\n",
      "Home Page\n",
      "Technology\n"
     ]
    }
   ],
   "source": [
    "import ast\n",
    "import sys\n",
    "import csv\n",
    "maxInt = sys.maxsize\n",
    "decrement = True\n",
    "\n",
    "while decrement:\n",
    "    decrement = False\n",
    "    try:\n",
    "        csv.field_size_limit(maxInt)\n",
    "    except OverflowError:\n",
    "        maxInt = int(maxInt/10)\n",
    "        decrement = True\n",
    "file = open(r'AllNews.csv','r',encoding='ISO-8859-1')\n",
    "read = csv.reader(file)\n",
    "master = set([])\n",
    "next(read,None)\n",
    "for i in read:\n",
    "    if(i[1]=='livemint'):\n",
    "        s1=i[2]\n",
    "\n",
    "        if('[' in s1 and ']' in s1):\n",
    "            s = ast.literal_eval(s1)\n",
    "            master = master | set(s)\n",
    "        else:\n",
    "            master.add(s1)\n",
    "file.close()\n",
    "for z in master:\n",
    "    print(z)\n",
    "for j in master:\n",
    "    if '/' in j:\n",
    "        j=j.replace(\"/\",\"\")"
   ]
  },
  {
   "cell_type": "code",
   "execution_count": null,
   "metadata": {},
   "outputs": [],
   "source": []
  }
 ],
 "metadata": {
  "kernelspec": {
   "display_name": "Python 3",
   "language": "python",
   "name": "python3"
  },
  "language_info": {
   "codemirror_mode": {
    "name": "ipython",
    "version": 3
   },
   "file_extension": ".py",
   "mimetype": "text/x-python",
   "name": "python",
   "nbconvert_exporter": "python",
   "pygments_lexer": "ipython3",
   "version": "3.6.4"
  }
 },
 "nbformat": 4,
 "nbformat_minor": 2
}
