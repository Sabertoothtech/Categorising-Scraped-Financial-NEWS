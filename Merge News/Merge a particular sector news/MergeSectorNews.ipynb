{
 "cells": [
  {
   "cell_type": "markdown",
   "metadata": {},
   "source": [
    "# Merge a particular sector news into one file\n",
    "We have news sored along to various companies and we want to combine them into one file of a particular sector. \n",
    "\n",
    "In our example, we have considered the pharma sector. We have a file which contains a list of all companies which are included in the pharma sector. We read the name of the company from that file and merge it's news into the __pharmanews__ file.\n",
    "\n",
    "In our example, the AUROBINDA PHARMA and CADILA HEALTHCARE files are included in the pharma list whereas the 3M INDIA and 5PAISA CAPITAL files are not included in pharma sector, hence their news is not merged."
   ]
  },
  {
   "cell_type": "code",
   "execution_count": 1,
   "metadata": {},
   "outputs": [
    {
     "name": "stdout",
     "output_type": "stream",
     "text": [
      "['aurobindo pharma', 'biocon', 'cadila healthcare', 'cipla', \"divi's laboratories\", \"dr. reddy's laboratories\", 'glenmark pharmaceuticals', 'lupin', 'piramal enterprises', 'sun pharmaceutical industries']\n"
     ]
    }
   ],
   "source": [
    "import csv\n",
    "import os\n",
    "file = open(r'pharma.csv','r',encoding='ISO-8859-1')\n",
    "new = open(r'pharmanews.csv','a',newline='',encoding='ISO-8859-1')\n",
    "writ = csv.writer(new)\n",
    "writ.writerow(['','Company','Source','Category','Date','Author','Title','Tags','Subtitle','Content'])\n",
    "reader = csv.reader(file)\n",
    "next(reader, None)\n",
    "list1=[]\n",
    "news_files = [(y[2]) for y in os.walk(r'C:\\Users\\T\\Desktop\\Saber\\Filtering the News\\Merge News\\Merge a particular sector news')]\n",
    "s = news_files[0]\n",
    "for i in reader:\n",
    "    list1.append(i[0].lower())\n",
    "print(list1)\n",
    "for j in s:\n",
    "    m = j.lower()[:-4]\n",
    "    if m in list1:\n",
    "        news = open(r\"C:\\Users\\T\\Desktop\\Saber\\Filtering the News\\Merge News\\Merge a particular sector news\\\\\"+ j,'r',encoding =\"ISO-8859-1\")\n",
    "        readNews = csv.reader(news)\n",
    "        next(readNews, None)\n",
    "        for ne in readNews:\n",
    "            writ.writerow([ne[0],ne[1],ne[2],ne[3],ne[4],ne[5],ne[6],ne[7],ne[8],ne[9]])\n"
   ]
  },
  {
   "cell_type": "code",
   "execution_count": 2,
   "metadata": {},
   "outputs": [],
   "source": [
    "new.close()"
   ]
  }
 ],
 "metadata": {
  "kernelspec": {
   "display_name": "Python 3",
   "language": "python",
   "name": "python3"
  },
  "language_info": {
   "codemirror_mode": {
    "name": "ipython",
    "version": 3
   },
   "file_extension": ".py",
   "mimetype": "text/x-python",
   "name": "python",
   "nbconvert_exporter": "python",
   "pygments_lexer": "ipython3",
   "version": "3.6.4"
  }
 },
 "nbformat": 4,
 "nbformat_minor": 2
}
