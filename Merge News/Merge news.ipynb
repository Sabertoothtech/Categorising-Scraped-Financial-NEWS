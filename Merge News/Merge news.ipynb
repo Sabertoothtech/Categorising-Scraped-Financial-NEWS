{
 "cells": [
  {
   "cell_type": "markdown",
   "metadata": {},
   "source": [
    "# Merge the news into one file\n",
    "We have news of different sources stored into different files. We combine them into one master news file.\n",
    "For merging the news, we first navigate to the folder where all the news files are stored using __os.walk(path)__ method.\n",
    "Then we open each of the file and append it into one master __NewsCombined.csv__ file."
   ]
  },
  {
   "cell_type": "code",
   "execution_count": null,
   "metadata": {},
   "outputs": [],
   "source": [
    "#Merge news\n",
    "import csv\n",
    "import os\n",
    "new = open(r'C:\\Users\\T\\Desktop\\Saber\\Filtering the News\\News\\NewsCombined.csv','a',newline='',encoding='ISO-8859-1')\n",
    "writ=csv.writer(new)\n",
    "writ.writerow(['','Source','Category','Date','Author','Title','Tags','Subtitle','Content'])\n",
    "news_files = [(y[2]) for y in os.walk(r'C:\\Users\\T\\Desktop\\Saber\\Filtering the News\\News')]\n",
    "s = news_files[0]\n",
    "for j in s:\n",
    "    news = open(r\"C:\\Users\\T\\Desktop\\Saber\\Filtering the News\\News\\\\\"+j,'r',encoding='ISO-8859-1')\n",
    "    read= csv.reader(news)\n",
    "    next(read,None)\n",
    "    for n in read:\n",
    "        writ.writerow([n[0],n[1],n[2],n[3],n[4],n[5],n[6],n[7],n[8]])"
   ]
  },
  {
   "cell_type": "code",
   "execution_count": null,
   "metadata": {},
   "outputs": [],
   "source": []
  }
 ],
 "metadata": {
  "kernelspec": {
   "display_name": "Python 3",
   "language": "python",
   "name": "python3"
  },
  "language_info": {
   "codemirror_mode": {
    "name": "ipython",
    "version": 3
   },
   "file_extension": ".py",
   "mimetype": "text/x-python",
   "name": "python",
   "nbconvert_exporter": "python",
   "pygments_lexer": "ipython3",
   "version": "3.6.4"
  }
 },
 "nbformat": 4,
 "nbformat_minor": 2
}
